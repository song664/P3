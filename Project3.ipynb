{
 "cells": [
  {
   "cell_type": "code",
   "execution_count": 1,
   "id": "6679be3b-0068-4ba8-a02b-64939df782fd",
   "metadata": {},
   "outputs": [
    {
     "name": "stdout",
     "output_type": "stream",
     "text": [
      "Average number of daily complaints in 2022: 8684.320547945206\n"
     ]
    }
   ],
   "source": [
    "#1\n",
    "import pandas as pd\n",
    "\n",
    "# Load the dataset\n",
    "df = pd.read_pickle('shared/Project-3_NYC_311_Calls.pkl')\n",
    "\n",
    "# Setting the 'Created Date' as a proper DatetimeIndex and then deleting the 'Created Date' column\n",
    "df = df.set_index(pd.DatetimeIndex(df['Created Date']))\n",
    "del df['Created Date']\n",
    "\n",
    "# Filtering the data for the year 2022\n",
    "df_2022 = df[df.index.year == 2022]\n",
    "\n",
    "# Resampling the data on a daily basis and counting the number of unique keys (complaints) for each day\n",
    "daily_complaints_2022 = df_2022['Unique Key'].resample('D').count()\n",
    "\n",
    "# Calculating the average number of daily complaints in 2022\n",
    "average_daily_complaints_2022 = daily_complaints_2022.mean()\n",
    "\n",
    "print(\"Average number of daily complaints in 2022:\", average_daily_complaints_2022)\n"
   ]
  },
  {
   "cell_type": "code",
   "execution_count": 2,
   "id": "fa9158d4-1afd-45f9-ace1-87466a839159",
   "metadata": {},
   "outputs": [
    {
     "name": "stdout",
     "output_type": "stream",
     "text": [
      "Date with the maximum number of calls: 2020-08-04 00:00:00\n",
      "Number of calls received: 24415\n"
     ]
    }
   ],
   "source": [
    "#2\n",
    "\n",
    "daily_calls = df['Unique Key'].resample('D').count()\n",
    "\n",
    "max_calls_date = daily_calls.idxmax()\n",
    "max_calls_count = daily_calls.max()\n",
    "\n",
    "print(\"Date with the maximum number of calls:\", max_calls_date)\n",
    "print(\"Number of calls received:\", max_calls_count)\n"
   ]
  },
  {
   "cell_type": "code",
   "execution_count": 3,
   "id": "58a4a90c-15bc-4ac7-9482-543ea745e49c",
   "metadata": {},
   "outputs": [
    {
     "name": "stdout",
     "output_type": "stream",
     "text": [
      "Most common complaint on the date with maximum calls: Damaged Tree\n"
     ]
    }
   ],
   "source": [
    "#3\n",
    "\n",
    "daily_calls = df['Unique Key'].resample('D').count()\n",
    "\n",
    "max_calls_date = daily_calls.idxmax()\n",
    "\n",
    "max_calls_data = df[df.index.date == max_calls_date.date()]\n",
    "\n",
    "most_common_complaint = max_calls_data['Complaint Type'].value_counts().idxmax()\n",
    "\n",
    "print(\"Most common complaint on the date with maximum calls:\", most_common_complaint)\n"
   ]
  },
  {
   "cell_type": "code",
   "execution_count": 4,
   "id": "c85c1faa-c558-4759-bd07-01553a60e4ca",
   "metadata": {},
   "outputs": [
    {
     "name": "stdout",
     "output_type": "stream",
     "text": [
      "Quietest month historically: August\n"
     ]
    }
   ],
   "source": [
    "#4\n",
    "\n",
    "monthly_calls = df['Unique Key'].resample('M').count()\n",
    "\n",
    "quietest_month_index = monthly_calls.idxmin()\n",
    "quietest_month = quietest_month_index.month_name()\n",
    "\n",
    "print(\"Quietest month historically:\", quietest_month)\n"
   ]
  },
  {
   "cell_type": "code",
   "execution_count": 1,
   "id": "66836a6a-453b-4d21-87fa-c50faf645fb3",
   "metadata": {},
   "outputs": [
    {
     "name": "stdout",
     "output_type": "stream",
     "text": [
      "Seasonal component value on 2020-12-25 (rounded): 183\n"
     ]
    }
   ],
   "source": [
    "#5\n",
    "\n",
    "import pandas as pd\n",
    "import statsmodels.api as sm\n",
    "\n",
    "# Load the dataset\n",
    "df = pd.read_pickle('shared/Project-3_NYC_311_Calls.pkl')\n",
    "\n",
    "# Setting the 'Created Date' as a proper DatetimeIndex and then deleting the 'Created Date' column\n",
    "df = df.set_index(pd.DatetimeIndex(df['Created Date']))\n",
    "del df['Created Date']\n",
    "\n",
    "# Resampling the data on a daily basis and counting the number of unique keys (calls) for each day\n",
    "daily_calls = df['Unique Key'].resample('D').count()\n",
    "\n",
    "# Performing ETS decomposition based on an additive model\n",
    "decomposition = sm.tsa.seasonal_decompose(daily_calls, model='additive')\n",
    "\n",
    "# Extracting the seasonal component\n",
    "seasonal_component = decomposition.seasonal\n",
    "\n",
    "# Finding the value of the seasonal component on 2020-12-25\n",
    "seasonal_value_2020_12_25 = seasonal_component['2020-12-25']\n",
    "\n",
    "# Rounding to the nearest integer\n",
    "rounded_seasonal_value = round(seasonal_value_2020_12_25)\n",
    "\n",
    "print(\"Seasonal component value on 2020-12-25 (rounded):\", rounded_seasonal_value)\n",
    "\n"
   ]
  },
  {
   "cell_type": "code",
   "execution_count": 2,
   "id": "54ab136b-d421-43e2-8e8b-55b810f1b6a8",
   "metadata": {},
   "outputs": [
    {
     "name": "stdout",
     "output_type": "stream",
     "text": [
      "Autocorrelation of daily calls with a lag of 1: 0.7517059728398577\n"
     ]
    }
   ],
   "source": [
    "#6\n",
    "\n",
    "\n",
    "daily_calls = df['Unique Key'].resample('D').count()\n",
    "\n",
    "autocorrelation_lag_1 = daily_calls.autocorr(lag=1)\n",
    "\n",
    "print(\"Autocorrelation of daily calls with a lag of 1:\", autocorrelation_lag_1)\n"
   ]
  },
  {
   "cell_type": "code",
   "execution_count": null,
   "id": "cabc65e3-7759-4aef-8e10-0fc6361243a7",
   "metadata": {},
   "outputs": [],
   "source": [
    "#7"
   ]
  },
  {
   "cell_type": "code",
   "execution_count": 1,
   "id": "86299f22-0686-43a1-ab42-03698cf81411",
   "metadata": {
    "tags": []
   },
   "outputs": [
    {
     "name": "stdout",
     "output_type": "stream",
     "text": [
      "RMSE: 1246.901274959065\n"
     ]
    }
   ],
   "source": [
    "import pandas as pd\n",
    "import statsmodels.api as sm\n",
    "from sklearn.metrics import mean_squared_error\n",
    "from math import sqrt\n",
    "\n",
    "df = pd.read_pickle('shared/Project-3_NYC_311_Calls.pkl')\n",
    "df = df.set_index(pd.DatetimeIndex(df['Created Date']))\n",
    "\n",
    "daily_series = df['Unique Key'].resample('D').count().reset_index()\n",
    "daily_series.columns = ['ds', 'y']\n",
    "\n",
    "train = daily_series[:-90] \n",
    "test = daily_series[-90:]   \n",
    "\n",
    "\n",
    "model = sm.tsa.arima.ARIMA(train['y'], order=(1, 1, 1))\n",
    "fitted_model = model.fit()\n",
    "\n",
    "forecast = fitted_model.forecast(steps=90)\n",
    "\n",
    "rmse = sqrt(mean_squared_error(test['y'], forecast))  # Compare the 'y' column of test with forecast\n",
    "print(\"RMSE:\", rmse)\n",
    "\n"
   ]
  },
  {
   "cell_type": "code",
   "execution_count": null,
   "id": "653c3da0-2fdc-4df0-96e2-546239a7662f",
   "metadata": {},
   "outputs": [],
   "source": []
  }
 ],
 "metadata": {
  "kernelspec": {
   "display_name": "Python [conda env:mggy8413]",
   "language": "python",
   "name": "conda-env-mggy8413-py"
  },
  "language_info": {
   "codemirror_mode": {
    "name": "ipython",
    "version": 3
   },
   "file_extension": ".py",
   "mimetype": "text/x-python",
   "name": "python",
   "nbconvert_exporter": "python",
   "pygments_lexer": "ipython3",
   "version": "3.10.12"
  }
 },
 "nbformat": 4,
 "nbformat_minor": 5
}
